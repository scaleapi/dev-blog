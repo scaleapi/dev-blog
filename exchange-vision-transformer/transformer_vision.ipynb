{
  "cells": [
    {
      "cell_type": "markdown",
      "metadata": {
        "id": "lGfOJRsTWKAU"
      },
      "source": [
        "# How to Build a Faster Vision Transformer for Supervised Image Classification\n",
        "\n",
        "[![Open In Colab](https://colab.research.google.com/assets/colab-badge.svg)](https://colab.research.google.com/github/scaleapi/dev-blog/blob/main/exchange-vision-transformer/transformer_vision.ipynb)\n",
        "\n",
        "**Subtitle**: Here's how to implement a vision transformer in Python and speed up its operations by adding a TokenLearner layer.\n",
        "\n",
        "**Summary**: A vision transformer learns from image data by treating image patches as tokens. Adding a token learning layer to a vision transformer speeds up its operations. \n",
        "\n",
        "**Byline**: Mehreen Saeed \n",
        "\n",
        "**Keywords**: Vision transformer, TokenLearner, Faster vision transformer\n",
        "\n",
        "**Byline**: Mehreen Saeed\n",
        "\n",
        "\n",
        "In their seminal paper \"[Attention Is All You Need](https://arxiv.org/abs/1706.03762),\" Ashish Vaswani and colleagues proposed the transformer architecture solely based on [the attention mechanism](https://exchange.scale.com/home/blogs/attention-models-what-they-are-and-why-they-matter). Engineers have successfully applied this model to implement many natural language processing tasks. Later in 2021, [Alexey Dosovitskiy and his co-authors](https://arxiv.org/abs/2010.11929) showed how to modify the transformer architecture to solve problems in the computer vision domain. The only addition to the pure transformer is an added layer that breaks up an image into smaller image patches that act like tokens. \n",
        "\n",
        "The resulting model, called a \"vision transformer\" (ViT), works well for image data. However, the training phase of ViTs involves many operations and can be pretty slow. [Michael Ryoo and his colleagues](https://proceedings.neurips.cc/paper/2021/hash/6a30e32e56fce5cf381895dfe6ca7b6f-Abstract.html) showed one possible method of speeding up the computations of the training stage by adding a token learning layer called TokenLearner to the network.\n",
        "\n",
        "In an earlier tutorial, I showed [how to build a transformer for supervised classification of text documents](https://exchange.scale.com/public/blogs/how-to-build-a-transformer-for-supervised-classification). This time, I'll modify this model to build a ViT and use it to classify images. As a second step, I'll show you how to add a token learning layer to the transformer model to create a faster ViT model. \n",
        "\n",
        "My goal is to show you how the ViT works and how the token learner improves its performance. I'll keep everything simple; you won't see any fancy preprocessing or sophisticated fine-tuning of the model to beat the accuracy of existing systems. \n",
        "\n",
        "## Prerequisites\n",
        "Before we get started, be aware that you'll need some background knowledge to understand this tutorial. If you are at a beginning stage, I suggest you first read through these articles, in sequence:\n",
        "\n",
        "- [Attention Models: What They Are and Why They Matter](https://exchange.scale.com/public/blogs/attention-models-what-they-are-and-why-they-matter)\n",
        "- [Transformers: What They Are and Why They Matter](https://exchange.scale.com/public/blogs/transformers-what-they-are-and-why-they-matter)\n",
        "- [How to Build a Transformer for Supervised Classification Using Keras and TensorFlow]( https://exchange.scale.com/public/blogs/how-to-build-a-transformer-for-supervised-classification)\n",
        "\n",
        "## The Overall ViT Architecture\n",
        "\n",
        "The ViT you are about to build has the structure shown in Figure 1. After tokenizing the image, the transformer passes the token images through an embedding layer, followed by four encoder layers. The output from the last encoder layer is input to a global average pooling layer and then passed through a feedforward neural network. \n",
        "\n",
        "![](https://lh6.googleusercontent.com/_DI8dfWg8LGLzFithZhMiyyZyAf9jOocrHrzfaA67uYvnh9IpskZksi0FSujFSQ5Hcrb1cVL75XwNWYKcJPvNz6CofjXXAKdKANN59N2pjm3iiBXXJXwqFjReZbII-k-qg=w1280)\n",
        "\n",
        "*Figure 1: The vision transformer architecture. Source: Mehreen Saeed*\n",
        "\n",
        "## The Import Section\n",
        "\n",
        "As a first step, import the following libraries:"
      ]
    },
    {
      "cell_type": "code",
      "execution_count": null,
      "metadata": {
        "id": "VkzmoCetWKAY"
      },
      "outputs": [],
      "source": [
        "# Different layers\n",
        "from tensorflow.keras.layers import MultiHeadAttention, Input, Dense, Reshape\n",
        "from tensorflow.keras.layers import LayerNormalization, Layer\n",
        "from tensorflow.keras.layers import Embedding, GlobalAveragePooling1D\n",
        "from tensorflow.keras.layers import Conv2D, Dropout\n",
        "# For miscellaneous functions\n",
        "from tensorflow.keras.datasets import fashion_mnist\n",
        "from tensorflow import reduce_mean, float32, range, reshape\n",
        "from tensorflow.keras import utils\n",
        "from tensorflow.keras.metrics import TopKCategoricalAccuracy\n",
        "from tensorflow.nn import gelu\n",
        "from tensorflow.keras import Model, Sequential\n",
        "# For tokenization\n",
        "from tensorflow.image import extract_patches\n",
        "\n",
        "# For math/arrays\n",
        "import numpy as np\n",
        "# For plotting\n",
        "import matplotlib.pyplot as plt\n",
        "# For profiling\n",
        "import time"
      ]
    },
    {
      "cell_type": "markdown",
      "metadata": {
        "id": "tn6KWFXiWKAa"
      },
      "source": [
        "## Load the Dataset\n",
        "We'll use the [Fashion-MNIST dataset](https://www.tensorflow.org/datasets/catalog/fashion_mnist), which consists of 28-by-28 grayscale images of different fashion items. In the code below, I have set *n_classes* to four so that you can run this code quickly on four classes. Change this value to 10 to run the example on the entire dataset.\n",
        "\n",
        "The following code reads the dataset and prints some statistics."
      ]
    },
    {
      "cell_type": "code",
      "execution_count": null,
      "metadata": {
        "colab": {
          "base_uri": "https://localhost:8080/"
        },
        "id": "9Qnz_3jHWKAa",
        "outputId": "b8c2d74f-f1a9-4987-ce61-7d87dec52908"
      },
      "outputs": [
        {
          "name": "stdout",
          "output_type": "stream",
          "text": [
            "Downloading data from https://storage.googleapis.com/tensorflow/tf-keras-datasets/train-labels-idx1-ubyte.gz\n",
            "32768/29515 [=================================] - 0s 0us/step\n",
            "40960/29515 [=========================================] - 0s 0us/step\n",
            "Downloading data from https://storage.googleapis.com/tensorflow/tf-keras-datasets/train-images-idx3-ubyte.gz\n",
            "26427392/26421880 [==============================] - 0s 0us/step\n",
            "26435584/26421880 [==============================] - 0s 0us/step\n",
            "Downloading data from https://storage.googleapis.com/tensorflow/tf-keras-datasets/t10k-labels-idx1-ubyte.gz\n",
            "16384/5148 [===============================================================================================] - 0s 0us/step\n",
            "Downloading data from https://storage.googleapis.com/tensorflow/tf-keras-datasets/t10k-images-idx3-ubyte.gz\n",
            "4423680/4422102 [==============================] - 0s 0us/step\n",
            "4431872/4422102 [==============================] - 0s 0us/step\n"
          ]
        }
      ],
      "source": [
        "(train_X, train_Y), (test_X, test_Y) = fashion_mnist.load_data()\n",
        "input_shape = train_X[0].shape"
      ]
    },
    {
      "cell_type": "code",
      "execution_count": null,
      "metadata": {
        "colab": {
          "base_uri": "https://localhost:8080/"
        },
        "id": "QiFTKBufRTE9",
        "outputId": "e75d0b59-d676-4f31-86f6-2e2d6bdbe148"
      },
      "outputs": [
        {
          "name": "stdout",
          "output_type": "stream",
          "text": [
            "\n",
            " Training data shape: (24000, 28, 28) training labels shape: (24000,)\n",
            "\n",
            " Test data shape: (4000, 28, 28) test labels shape: (4000,)\n"
          ]
        }
      ],
      "source": [
        "n_classes = 4\n",
        "ind = np.where(train_Y<n_classes)[0]\n",
        "train_X = np.array(list(map(train_X.__getitem__, ind)))\n",
        "train_Y = np.array(list(map(train_Y.__getitem__, ind)))\n",
        "print('\\n Training data shape:', train_X.shape, 'training labels shape:', train_Y.shape)\n",
        "\n",
        "ind = np.where(test_Y<n_classes)[0]\n",
        "test_X = np.array(list(map(test_X.__getitem__, ind)))\n",
        "test_Y = np.array(list(map(test_Y.__getitem__, ind)))\n",
        "print('\\n Test data shape:', test_X.shape, 'test labels shape:', test_Y.shape)\n",
        "\n",
        "# Convert labels to categorical labels\n",
        "train_Y_categorical = utils.to_categorical(train_Y)\n",
        "test_Y_categorical  = utils.to_categorical(test_Y)"
      ]
    },
    {
      "cell_type": "markdown",
      "metadata": {
        "id": "x1hNbOnXRTE-"
      },
      "source": [
        "As these images are grayscale, but you can reshape them to a 3D array with one color channel. This way, this code will work for RGB images as well."
      ]
    },
    {
      "cell_type": "code",
      "execution_count": null,
      "metadata": {
        "id": "l6gTpmcDRTE-"
      },
      "outputs": [],
      "source": [
        "# Reshape gray scale so that the model works with RGB images as well\n",
        "if (len(train_X.shape) == 3):\n",
        "    train_X = np.reshape(train_X, (train_X.shape[0], train_X.shape[1], train_X.shape[2], 1)).astype('float32')\n",
        "    test_X = np.reshape(test_X, (test_X.shape[0], test_X.shape[1], test_X.shape[2], 1)).astype('float32')"
      ]
    },
    {
      "cell_type": "markdown",
      "metadata": {
        "id": "gZVsR9HbWKAc"
      },
      "source": [
        "## The Image Tokenizer Layer\n",
        "\n",
        "For image data, the key is to understand what a token represents. One possibility is to let each pixel represent a token. However, this would not scale well with large image datasets. In the ViT architecture, Dosovitskiy and his colleagues used equal-sized patches of images to act as tokens. This sequence of tokens is then input to a traditional transformer with a minimal change to its architecture. \n",
        "\n",
        "Fortunately, the TensorFlow library includes an *extract_patches()* method to break an image into smaller patches of fixed size. You can use this function to implement your own layer for tokenizing an image. In the code below, *ImageTokenizerLayer* is a custom class for tokenizing images. The *call()* method of this class creates the image patches and returns them."
      ]
    },
    {
      "cell_type": "code",
      "execution_count": null,
      "metadata": {
        "id": "5Lf9MdmSWKAd"
      },
      "outputs": [],
      "source": [
        "class ImageTokenizerLayer(Layer):\n",
        "    def __init__(self, token_shape):\n",
        "        super(ImageTokenizerLayer, self).__init__()\n",
        "        self.token_shape = token_shape\n",
        "\n",
        "    def call(self, images):\n",
        "        tokens = extract_patches(\n",
        "            images = images,\n",
        "            sizes = [1, self.token_shape[0], self.token_shape[1], 1],\n",
        "            strides = [1, self.token_shape[0], self.token_shape[1], 1],\n",
        "            rates = [1, 1, 1, 1],\n",
        "            padding = \"VALID\",\n",
        "        )\n",
        "        return tokens"
      ]
    },
    {
      "cell_type": "markdown",
      "metadata": {
        "id": "tKIxIkSeRTFA"
      },
      "source": [
        "Because the tokenization step is needed only once, you can store the tokens corresponding to the training set and use them as input to the ViT. In the code below, the dimensions of each token are the square root of the dimensions of the training and test images. However, you can change the patch size to a different value also. The two variables *train_tokens* and *test_tokens* store fixed-size tokens of each image. The tokens are also rendered below. \n",
        "\n",
        "A few things to note:\n",
        "\n",
        "- A single input image has 28 by 28 dimensions.\n",
        "- The input image is broken into 25 tokens of size 5 by 5.\n",
        "- Each 5-by-5 image token/patch is vectorized into a 1D array of size 25.\n",
        "- In the tokenized training dataset, each image is split into a sequence of tokens. One image has 5-by-5-by-25 dimensional representation.\n",
        "- *n_rows* and *n_cols* represent the total image tokens along the rows and columns, respectively. The total number of image tokens is, therefore, *n_rows * n_cols*."
      ]
    },
    {
      "cell_type": "code",
      "execution_count": null,
      "metadata": {
        "colab": {
          "base_uri": "https://localhost:8080/",
          "height": 644
        },
        "id": "wovA69gERTFA",
        "outputId": "8ec58375-1c4c-4688-a399-e9a848bf31ec"
      },
      "outputs": [
        {
          "name": "stdout",
          "output_type": "stream",
          "text": [
            "Train data shape (24000, 28, 28, 1)\n",
            "Train tokens shape (24000, 5, 5, 25)\n"
          ]
        },
        {
          "data": {
            "image/png": "[encoded data removed]",
            "text/plain": [
              "<Figure size 432x288 with 1 Axes>"
            ]
          },
          "metadata": {
            "needs_background": "light"
          },
          "output_type": "display_data"
        },
        {
          "data": {
            "image/png": "[encoded data removed]",
            "text/plain": [
              "<Figure size 288x288 with 25 Axes>"
            ]
          },
          "metadata": {},
          "output_type": "display_data"
        },
        {
          "data": {
            "image/png": "[encoded data removed]",
            "text/plain": [
              "<Figure size 1296x144 with 25 Axes>"
            ]
          },
          "metadata": {},
          "output_type": "display_data"
        }
      ],
      "source": [
        "def display_tokens(img, tokenized_img):   \n",
        "    # Check if RGB or grayscale image\n",
        "    if (img.shape[-1] == 3):    \n",
        "        img = img[:,:,:]\n",
        "    else:\n",
        "        img = img[:,:,0]\n",
        "    plt.imshow(img.astype(\"uint8\"))\n",
        "    plt.title('Train Image')\n",
        "    \n",
        "    fig, ax = plt.subplots(nrows=tokenized_img.shape[0], \n",
        "                           ncols=tokenized_img.shape[1], \n",
        "                           figsize=(4, 4),\n",
        "                           subplot_kw=dict(xticks=[], yticks=[]))\n",
        "    for i in range(tokenized_img.shape[0]):\n",
        "        for j in range(tokenized_img.shape[1]):\n",
        "            # Check if it an RGB image\n",
        "            if (tokenized_img.shape[-1] == 3):\n",
        "                token = np.reshape(tokenized_img[i, j, :], (token_dims[0], token_dims[1], 3))\n",
        "            else: \n",
        "                # Show graysclae\n",
        "                token =  np.reshape(tokenized_img[i, j, :], (token_dims[0], token_dims[1]))\n",
        "            ax[i,j].imshow(token)\n",
        "    plt.gcf().suptitle('Image Tokens')   \n",
        "    \n",
        "    fig, ax = plt.subplots(nrows=1, \n",
        "                           ncols=tokenized_img.shape[0]*tokenized_img.shape[1], \n",
        "                           figsize=(18, 2),\n",
        "                           subplot_kw=dict(xticks=[], yticks=[]))\n",
        "    for i in range(tokenized_img.shape[0]):\n",
        "        for j in range(tokenized_img.shape[1]):\n",
        "            # Check if it an RGB image\n",
        "            if (tokenized_img.shape[-1] == 3):\n",
        "                token = np.reshape(tokenized_img[i, j, :], (token_dims[0], token_dims[1], 3))\n",
        "            else: \n",
        "                # Show graysclae\n",
        "                token = np.reshape(tokenized_img[i, j, :], (token_dims[0], token_dims[1]))\n",
        "            ax[i*tokenized_img.shape[1] + j].imshow(token)\n",
        "    plt.gcf().suptitle('Sequence of image tokens')      \n",
        "    plt.show()\n",
        "    \n",
        "# Take the square root of dimensions of the input image     \n",
        "token_dims = np.round(np.sqrt(train_X[0].shape)).astype(\"uint8\")    \n",
        "train_tokens = ImageTokenizerLayer(token_dims)(train_X)\n",
        "test_tokens = ImageTokenizerLayer(token_dims)(test_X)\n",
        "n_rows=train_tokens.shape[1]\n",
        "n_cols=train_tokens.shape[2]\n",
        "\n",
        "print('Train data shape', train_X.shape)\n",
        "print('Train tokens shape', train_tokens.shape)\n",
        "# Display the original and image tokens\n",
        "display_tokens(train_X[0], train_tokens[0])"
      ]
    },
    {
      "cell_type": "markdown",
      "metadata": {
        "id": "YkVivw9zWKAg"
      },
      "source": [
        "## Writing a Customized Embedding Layer for the ViT\n",
        "\n",
        "In a pure transformer architecture, all word tokens are encoded by summing  their embeddings and their encoded positions. In the case of a ViT, the embedding layer projects an image linearly and sums it with its corresponding positional encoding. In this way, the positional encoding helps retain the order of a token in the sequence.\n",
        "\n",
        "Below, you can see the implementation of a custom layer for encoding each image token. The *call()* method implements the following steps:\n",
        "\n",
        "1. Normalize the input image tokens.\n",
        "1. Project the normalized image tokens by using a *Dense* layer.\n",
        "1. Encode the positions using TensorFlow *Embedding* layer.\n",
        "1. Add the projections and the encoded positions. Return their sum.\n",
        "\n",
        "Here, the length of the resulting embedding is stored in the variable *embed_dim*, whose value can be set by a user. Hence, the embedding layer produces an output of size *total_tokens x embed_dim*. Again, keep in mind that *total_tokens = n_rows * ncols*."
      ]
    },
    {
      "cell_type": "code",
      "execution_count": null,
      "metadata": {
        "id": "adh3HMhPWKAh"
      },
      "outputs": [],
      "source": [
        "class ImageEmbeddingLayer(Layer):\n",
        "    def __init__(self, output_dim):\n",
        "        super(ImageEmbeddingLayer, self).__init__()\n",
        "        self.output_dim = output_dim\n",
        "\n",
        "    # Need to define the Dense layer for linear projections \n",
        "    # Embedding layer for positions\n",
        "    def build(self, input_shape):      \n",
        "        self.total_img_tokens = input_shape[1]*input_shape[2]\n",
        "        self.token_dims = input_shape[3]\n",
        "        self.normalize_layer = LayerNormalization()\n",
        "        self.dense = Dense(units=self.output_dim, \n",
        "                                  input_shape=(None, self.token_dims))\n",
        "        self.position_embedding = Embedding(input_dim=self.total_img_tokens, \n",
        "                                                   output_dim=self.output_dim)\n",
        "        \n",
        "    def call(self, input):  \n",
        "        img_tokens = reshape(input, [-1, self.total_img_tokens,\n",
        "                                            self.token_dims])\n",
        "        normalized_img_token = self.normalize_layer(img_tokens)\n",
        "        img_projection = self.dense(normalized_img_token)\n",
        "        all_positions = range(start=0, limit=self.total_img_tokens, delta=1)\n",
        "        positions_encoding = self.position_embedding(all_positions)\n",
        "        \n",
        "        return positions_encoding + img_projection       "
      ]
    },
    {
      "cell_type": "markdown",
      "metadata": {
        "id": "d9ETWebGWKAh"
      },
      "source": [
        "## The Encoder Layer\n",
        "\n",
        "In \"[How to Build a Transformer for Supervised Classification]( https://exchange.scale.com/public/blogs/how-to-build-a-transformer-for-supervised-classification),\" I showed you how to build a single encoder layer by sub-classing the *Layer* class. We'll use the same implementation for the ViT. Just to recall, the encoder layer implements multihead attention followed by a feedforward network and a normalization layer."
      ]
    },
    {
      "cell_type": "code",
      "execution_count": null,
      "metadata": {
        "id": "5vzTWfGqWKAi"
      },
      "outputs": [],
      "source": [
        "class EncoderLayer(Layer):\n",
        "    def __init__(self, total_heads, total_dense_units, embed_dim):\n",
        "        super(EncoderLayer, self).__init__()\n",
        "        # Multihead attention layer\n",
        "        self.multihead = MultiHeadAttention(num_heads=total_heads, key_dim=embed_dim)\n",
        "        # Feed forward network layer\n",
        "        self.nnw = Sequential(\n",
        "                            [Dense(total_dense_units, activation=\"relu\"),\n",
        "                             Dense(embed_dim)])\n",
        "        # Normalization\n",
        "        self.normalize_layer = LayerNormalization()\n",
        "\n",
        "    def call(self, inputs):\n",
        "        attn_output = self.multihead(inputs, inputs)\n",
        "        normalize_attn = self.normalize_layer(inputs + attn_output)\n",
        "        nnw_output = self.nnw(normalize_attn)\n",
        "        final_output = self.normalize_layer(normalize_attn + nnw_output)\n",
        "        return final_output"
      ]
    },
    {
      "cell_type": "markdown",
      "metadata": {
        "id": "Wu8ExO4wWKAj"
      },
      "source": [
        "## Build the ViT\n",
        "\n",
        "It's time to construct the final ViT model from the *ImageEmbeddingLayer* and *EncoderLayer*. The final output of the transformer is produced by a softmax layer, where each unit of the layer corresponds to a category of the input image.\n",
        "\n",
        "The code below constructs a ViT with four encoder layers followed by *GlobalAveragePooling1D* layer, an intermediate *Dense* layer, and the output *Dense* layer (refer to Figure 1). "
      ]
    },
    {
      "cell_type": "code",
      "execution_count": null,
      "metadata": {
        "id": "1H5Wk08rWKAj"
      },
      "outputs": [],
      "source": [
        "# Set the hyperparameters\n",
        "EMBED_DIM = 128\n",
        "NUM_HEADS = 3\n",
        "TOTAL_DENSE = 100\n",
        "EPOCHS = 6\n",
        "FINAL_DENSE = 150\n",
        "DROPOUT = 0.5\n",
        "\n",
        "# Should return the model\n",
        "def build_vit(input_shape, embed_dim=EMBED_DIM, num_heads=NUM_HEADS, total_dense_units=TOTAL_DENSE):\n",
        "    # Start connecting layers\n",
        "    inputs = Input(shape=input_shape)\n",
        "    embedding_layer = ImageEmbeddingLayer(embed_dim)(inputs)\n",
        "    encoder_layer1 = EncoderLayer(num_heads, total_dense_units, embed_dim)(embedding_layer)\n",
        "    encoder_layer2 = EncoderLayer(num_heads, total_dense_units, embed_dim)(encoder_layer1)\n",
        "    encoder_layer3 = EncoderLayer(num_heads, total_dense_units, embed_dim)(encoder_layer2)\n",
        "    encoder_layer4 = EncoderLayer(num_heads, total_dense_units, embed_dim)(encoder_layer3)\n",
        "    pooling_layer = GlobalAveragePooling1D()(encoder_layer4)\n",
        "    dense_layer = Dense(FINAL_DENSE, activation='relu')(pooling_layer)\n",
        "    dropout_layer = Dropout(DROPOUT)(dense_layer)\n",
        "    outputs = Dense(n_classes, activation=\"softmax\")(dense_layer)\n",
        "    \n",
        "    # Construct the transformer model\n",
        "    ViT = Model(inputs=inputs, outputs=outputs)   \n",
        "    ViT.compile(optimizer=\"adam\", loss='categorical_crossentropy', \n",
        "                          metrics=['accuracy', 'Precision',\n",
        "                                   'Recall',\n",
        "                                   TopKCategoricalAccuracy(5, name='top-5-accuracy')])\n",
        "    return ViT\n",
        "\n",
        "vit = build_vit(train_tokens[0].shape)"
      ]
    },
    {
      "cell_type": "markdown",
      "metadata": {
        "id": "TKiDstc1RTFJ"
      },
      "source": [
        "Let's look at the model summary. "
      ]
    },
    {
      "cell_type": "code",
      "execution_count": null,
      "metadata": {
        "colab": {
          "base_uri": "https://localhost:8080/"
        },
        "id": "ygzp3UAoRTFK",
        "outputId": "47fc1744-4d21-41cb-de7c-5b0121469457"
      },
      "outputs": [
        {
          "name": "stdout",
          "output_type": "stream",
          "text": [
            "Model: \"model\"\n",
            "_________________________________________________________________\n",
            " Layer (type)                Output Shape              Param #   \n",
            "=================================================================\n",
            " input_1 (InputLayer)        [(None, 5, 5, 25)]        0         \n",
            "                                                                 \n",
            " image_embedding_layer (Imag  (None, 25, 128)          6578      \n",
            " eEmbeddingLayer)                                                \n",
            "                                                                 \n",
            " encoder_layer (EncoderLayer  (None, 25, 128)          223972    \n",
            " )                                                               \n",
            "                                                                 \n",
            " encoder_layer_1 (EncoderLay  (None, 25, 128)          223972    \n",
            " er)                                                             \n",
            "                                                                 \n",
            " encoder_layer_2 (EncoderLay  (None, 25, 128)          223972    \n",
            " er)                                                             \n",
            "                                                                 \n",
            " encoder_layer_3 (EncoderLay  (None, 25, 128)          223972    \n",
            " er)                                                             \n",
            "                                                                 \n",
            " global_average_pooling1d (G  (None, 128)              0         \n",
            " lobalAveragePooling1D)                                          \n",
            "                                                                 \n",
            " dense_8 (Dense)             (None, 150)               19350     \n",
            "                                                                 \n",
            " dense_9 (Dense)             (None, 4)                 604       \n",
            "                                                                 \n",
            "=================================================================\n",
            "Total params: 922,420\n",
            "Trainable params: 922,420\n",
            "Non-trainable params: 0\n",
            "_________________________________________________________________\n"
          ]
        }
      ],
      "source": [
        "vit.summary()"
      ]
    },
    {
      "cell_type": "markdown",
      "metadata": {
        "id": "L6OGCEWWWKAj"
      },
      "source": [
        "## Training the ViT\n",
        "The code below trains the transformer model using a 33% split for the validation set."
      ]
    },
    {
      "cell_type": "code",
      "execution_count": null,
      "metadata": {
        "colab": {
          "base_uri": "https://localhost:8080/"
        },
        "id": "iE-44B75WKAk",
        "outputId": "940086e0-09d0-4d54-e932-c0f696d1e4f2"
      },
      "outputs": [
        {
          "name": "stdout",
          "output_type": "stream",
          "text": [
            "Epoch 1/6\n",
            "503/503 [==============================] - 110s 210ms/step - loss: 0.4088 - accuracy: 0.8528 - precision: 0.8704 - recall: 0.8325 - top-5-accuracy: 1.0000 - val_loss: 0.3440 - val_accuracy: 0.8826 - val_precision: 0.8926 - val_recall: 0.8717 - val_top-5-accuracy: 1.0000\n",
            "Epoch 2/6\n",
            "503/503 [==============================] - 104s 206ms/step - loss: 0.2743 - accuracy: 0.9077 - precision: 0.9177 - recall: 0.8979 - top-5-accuracy: 1.0000 - val_loss: 0.2683 - val_accuracy: 0.9097 - val_precision: 0.9237 - val_recall: 0.8962 - val_top-5-accuracy: 1.0000\n",
            "Epoch 3/6\n",
            "503/503 [==============================] - 104s 207ms/step - loss: 0.2652 - accuracy: 0.9092 - precision: 0.9204 - recall: 0.9005 - top-5-accuracy: 1.0000 - val_loss: 0.2399 - val_accuracy: 0.9166 - val_precision: 0.9278 - val_recall: 0.9078 - val_top-5-accuracy: 1.0000\n",
            "Epoch 4/6\n",
            "503/503 [==============================] - 103s 204ms/step - loss: 0.2918 - accuracy: 0.9027 - precision: 0.9143 - recall: 0.8914 - top-5-accuracy: 1.0000 - val_loss: 0.3244 - val_accuracy: 0.8929 - val_precision: 0.9031 - val_recall: 0.8833 - val_top-5-accuracy: 1.0000\n",
            "Epoch 5/6\n",
            "503/503 [==============================] - 106s 210ms/step - loss: 0.2998 - accuracy: 0.8973 - precision: 0.9095 - recall: 0.8856 - top-5-accuracy: 1.0000 - val_loss: 0.3078 - val_accuracy: 0.8883 - val_precision: 0.9016 - val_recall: 0.8759 - val_top-5-accuracy: 1.0000\n",
            "Epoch 6/6\n",
            "503/503 [==============================] - 103s 206ms/step - loss: 0.3092 - accuracy: 0.8973 - precision: 0.9098 - recall: 0.8850 - top-5-accuracy: 1.0000 - val_loss: 0.4423 - val_accuracy: 0.8418 - val_precision: 0.8583 - val_recall: 0.8233 - val_top-5-accuracy: 1.0000\n",
            "\n",
            "ViT training time:  686.4262797832489\n"
          ]
        }
      ],
      "source": [
        "start_time = time.time()\n",
        "history = vit.fit(train_tokens, train_Y_categorical, \n",
        "                  batch_size=32, epochs=EPOCHS, validation_split=0.33)\n",
        "end_time = time.time()\n",
        "print('\\nViT training time: ', end_time-start_time)"
      ]
    },
    {
      "cell_type": "markdown",
      "metadata": {
        "id": "Xu58M-tRWKAk"
      },
      "source": [
        "### View the Learning History\n",
        "The `history` object stores the learning history of our model. The `fit()` method returns the following keys in the `history.history` object."
      ]
    },
    {
      "cell_type": "code",
      "execution_count": null,
      "metadata": {
        "colab": {
          "base_uri": "https://localhost:8080/"
        },
        "id": "OX7JbirgWKAk",
        "outputId": "56a468ab-6d44-4e7f-d2ca-fae9d7115a7c"
      },
      "outputs": [
        {
          "name": "stdout",
          "output_type": "stream",
          "text": [
            "\n",
            "Metrics recorded during training dict_keys(['loss', 'accuracy', 'precision', 'recall', 'top-5-accuracy', 'val_loss', 'val_accuracy', 'val_precision', 'val_recall', 'val_top-5-accuracy']) \n",
            "\n"
          ]
        }
      ],
      "source": [
        "print('\\nMetrics recorded during training', history.history.keys(), '\\n')"
      ]
    },
    {
      "cell_type": "markdown",
      "metadata": {
        "id": "cuOT7UzPWKAk"
      },
      "source": [
        "Let's visualize the learning history by plotting various metrics. "
      ]
    },
    {
      "cell_type": "code",
      "execution_count": null,
      "metadata": {
        "colab": {
          "base_uri": "https://localhost:8080/",
          "height": 188
        },
        "id": "PF3U8ZfjWKAl",
        "outputId": "2e801679-001d-4f5d-9d65-237894666d57"
      },
      "outputs": [
        {
          "data": {
            "image/png": "[encoded data removed]",
            "text/plain": [
              "<Figure size 1296x288 with 5 Axes>"
            ]
          },
          "metadata": {
            "needs_background": "light"
          },
          "output_type": "display_data"
        }
      ],
      "source": [
        "n_metrics = int(len(history.history.keys())/2)\n",
        "metrics = list(history.history.values())\n",
        "metric_names = list(history.history.keys())\n",
        "\n",
        "fig = plt.figure(figsize=(18,4))\n",
        "for i in np.arange(n_metrics):\n",
        "    fig.add_subplot(101 + n_metrics*10 +i)    \n",
        "    plt.plot(metrics[i])\n",
        "    plt.plot(metrics[i+n_metrics])\n",
        "    plt.legend(['Training', 'Validation'])\n",
        "    plt.xlabel('Epoch Number')\n",
        "    plt.ylabel(metric_names[i])\n",
        "\n",
        "plt.gcf().suptitle('Learning History of the ViT')    \n",
        "plt.subplots_adjust(wspace=0.4)    \n",
        "plt.show()"
      ]
    },
    {
      "cell_type": "markdown",
      "metadata": {
        "id": "gjPbd2y-WKAl"
      },
      "source": [
        "## Evaluating the ViT's Classification Performance\n",
        "\n",
        "The *evaluate()* method returns all the metrics that you specified during the training stage."
      ]
    },
    {
      "cell_type": "code",
      "execution_count": null,
      "metadata": {
        "colab": {
          "base_uri": "https://localhost:8080/"
        },
        "id": "OL9oHeeZWKAl",
        "outputId": "7e00673e-8554-442f-eded-9101f6d77fa4"
      },
      "outputs": [
        {
          "name": "stdout",
          "output_type": "stream",
          "text": [
            "750/750 [==============================] - 52s 69ms/step - loss: 0.4441 - accuracy: 0.8418 - precision: 0.8573 - recall: 0.8228 - top-5-accuracy: 1.0000\n",
            "125/125 [==============================] - 9s 69ms/step - loss: 0.4731 - accuracy: 0.8315 - precision: 0.8466 - recall: 0.8140 - top-5-accuracy: 1.0000\n"
          ]
        }
      ],
      "source": [
        "train_metrics = vit.evaluate(train_tokens,  train_Y_categorical)\n",
        "test_metrics  = vit.evaluate(test_tokens,  test_Y_categorical)"
      ]
    },
    {
      "cell_type": "code",
      "execution_count": null,
      "metadata": {
        "colab": {
          "base_uri": "https://localhost:8080/"
        },
        "id": "Sj5ZgrPhRTFQ",
        "outputId": "bbc64281-eea4-4ad7-c0e2-2ea6843ada56"
      },
      "outputs": [
        {
          "name": "stdout",
          "output_type": "stream",
          "text": [
            "\n",
            "Training set evaluation of ViT\n",
            "loss :  0.4440799057483673\n",
            "accuracy :  0.8418333530426025\n",
            "precision :  0.8573351502418518\n",
            "recall :  0.8227916955947876\n",
            "top-5-accuracy :  1.0\n",
            "\n",
            "Test set evaluation of ViT\n",
            "loss :  0.47306209802627563\n",
            "accuracy :  0.8314999938011169\n",
            "precision :  0.8465938568115234\n",
            "recall :  0.8140000104904175\n",
            "top-5-accuracy :  1.0\n"
          ]
        }
      ],
      "source": [
        "print('\\nTraining set evaluation of ViT')\n",
        "for i, value in enumerate(train_metrics):\n",
        "    print(metric_names[i], ': ', value)\n",
        "print('\\nTest set evaluation of ViT')\n",
        "for i, value in enumerate(test_metrics):\n",
        "    print(metric_names[i], ': ', value)"
      ]
    },
    {
      "cell_type": "markdown",
      "metadata": {
        "id": "7bzIdNXxRTFR"
      },
      "source": [
        "## How To Make the ViT Faster\n",
        "\n",
        "While there are several methods for making the ViT faster, we'll implement the *TokenLearner* of Ryoo and colleagues. The *TokenLearner* layer learns to identify important tokens in the input data. It then dynamically selects these tokens conditioned on the input, reducing the number of tokens used for classifying images. This algorithm mimics the element-wise spatial self-attention.\n",
        "\n",
        "### What is the Basic TokenLearner Algorithm?\n",
        "\n",
        "Here is the basic algorithm for the layer that implements the *TokenLearner*. In the algorithm below, *n_maps* represents the number of feature maps and is a user-supplied parameter.\n",
        "\n",
        "1. Compute weight maps conditioned on the inputs. The number of weight maps are *n_maps*. They effectively represent the attention weights. The weights have dimensions *n_rows x n_cols x n_maps*.\n",
        "1. Reshape the weights to *total_tokens x n_maps*.\n",
        "1. Multiply the weight maps by the inputs to get weighted inputs. The input size is *total_tokens x embed_dim* and the resulting weighted input size is *total_tokens x n_maps x embed_dim*.\n",
        "1. Apply spatial global average pooling to reduce the dimensions of the weighted inputs to *n_maps x embed_dim*.\n",
        "\n",
        "Figure 2 shows all these computations on the left.\n",
        "\n",
        "![](https://lh3.googleusercontent.com/bBasjBnV0hmKnKAMMiIC-5hzJ508aSyt26GExOQGwZS8XnDgaXEd6l4yrQrhQOwUAjZ5nlymgoGMz_FHo7wJf_OagY-rn4QUoXZuaKhg9DGnrPnf3cDX2pB_ES8LPbKRBQ=w1280)\n",
        "\n",
        "*Figure 2: The token learning layer. Source: Mehreen Saeed*\n",
        "\n",
        "\n",
        "### How Is the Weight Map Computed?\n",
        "\n",
        "Ryoo and colleagues compute the weight map of the *TokenLearner* as follows:\n",
        "\n",
        "1. Reshape the inputs to *n_rows x n_cols x embed_dim*.\n",
        "1. Pass the inputs through a series of convolution layers with a [Gaussian Error Linear Unit (GELU)](https://www.tensorflow.org/api_docs/python/tf/nn/gelu) activation function.\n",
        "1. Pass the convolved output through a convolution layer with sigmoid activation function. The dimensions of the result are *n_rows x n_cols x n_maps*.\n",
        "\n",
        "The processing is shown on the right in Figure 2.\n",
        "\n",
        "### Where Is the Token Learner in the Transformer Network?\n",
        "\n",
        "Ryoo and colleagues suggest you place the *TokenLearner* layer anywhere between the transformer encoder layers. They  experimented with placing this layer at different points in the network. They observed that inserting the *TokenLearner* after the initial one quarter of the network reduces the computations to less than a third of the baseline with no compromise in accuracy. Moreover, if this layer is inserted further down in the network, the resulting model has improved accuracy.\n",
        "\n",
        "Below is the code for the custom *TokenLearningLayer*. The *fast_vit* transformer model places the *TokenLearningLayer* after the two encoder layers, as shown in the figure below.\n",
        "\n",
        "![](https://lh6.googleusercontent.com/ZDepbxr_CkgFE8PnlGf3EZ5Re5v1O6PH1wAak2AX3w8zV3L5lCWwSgrRWdRUAq5tPh_QwqB7acORya29ffGzYzge_D_9r0mM5ylIV_qGeKHmxDb51UBmPnpd89c08Q_Sbw=w1280)\n",
        "\n",
        "*Figure 3: The overall ViT architecture with a token learning layer. Source: Mehreen Saeed*"
      ]
    },
    {
      "cell_type": "code",
      "execution_count": null,
      "metadata": {
        "id": "QioTlSuCRTFR"
      },
      "outputs": [],
      "source": [
        "class TokenLearningLayer(Layer):\n",
        "    def __init__(self, n_maps, token_dims):\n",
        "        super(TokenLearningLayer, self).__init__()\n",
        "        self.n_maps = n_maps\n",
        "        self.token_dims = token_dims\n",
        "\n",
        "\n",
        "    def build(self, input_shape):          \n",
        "        self.input_embed_dim = input_shape[-1]\n",
        "        self.model = Sequential()\n",
        "        \n",
        "        # Add Reshape layer to make a nrowxncolxembed_dim shape\n",
        "        self.model.add(Reshape((self.token_dims[0], \n",
        "                                self.token_dims[1], self.input_embed_dim)))\n",
        "        # Connect 4 Conv2D layers\n",
        "        for i in range(4):\n",
        "            conv2D_layer = Conv2D(filters=self.n_maps, kernel_size=(3, 3),\n",
        "                                  activation=gelu, padding=\"same\",\n",
        "                                  use_bias=False)\n",
        "            self.model.add(conv2D_layer)\n",
        "        # Connect with the last conv2D with sigmoid filter    \n",
        "        conv2D_sigmoid_layer = Conv2D(filters=self.n_maps, kernel_size=(3, 3),\n",
        "                                      activation=\"sigmoid\", padding=\"same\",\n",
        "                                      use_bias=False)\n",
        "        self.model.add(conv2D_sigmoid_layer)\n",
        "        # Reshape to (batch, nrow*ncol, n_maps)\n",
        "        self.model.add(Reshape((-1, self.n_maps)))  \n",
        "        \n",
        "    def call(self, inputs):\n",
        "        total_tokens = inputs.shape[1]        \n",
        "        # attn_wts shape: (batch, row*col, n_maps)\n",
        "        attn_wts = self.model(inputs)        \n",
        "        # Reshape inputs and attn_wts to match dimensions for multiplication\n",
        "        inputs = Reshape((total_tokens, 1, self.input_embed_dim))(inputs)\n",
        "        attn_wts = Reshape((total_tokens, self.n_maps, 1))(attn_wts)\n",
        "        # attended_output has shape (batch, row*col, n_maps, embed_dim)    \n",
        "        attended_output =  inputs*attn_wts\n",
        "        # Pool the result, will reduce one dimension\n",
        "        output = reduce_mean(attended_output, axis=1)  \n",
        "        return output"
      ]
    },
    {
      "cell_type": "markdown",
      "metadata": {
        "id": "TqrKPShDRTFS"
      },
      "source": [
        "After creating the *TokenLearningLayer*, you can build the transformer with this layer after two encoder layers."
      ]
    },
    {
      "cell_type": "code",
      "execution_count": null,
      "metadata": {
        "id": "yjmwO3jxRTFT"
      },
      "outputs": [],
      "source": [
        "NMAPS=4\n",
        "def build_fast_vit(input_shape, embed_dim=EMBED_DIM, \n",
        "              num_heads=NUM_HEADS, total_dense_units=TOTAL_DENSE,\n",
        "              n_maps=NMAPS):\n",
        "    # Start connecting layers\n",
        "    inputs = Input(shape=train_tokens[0].shape)\n",
        "    #tokenizer_layer = ImageTokenizerLayer(token_dims)(inputs)\n",
        "    embedding_layer = ImageEmbeddingLayer(embed_dim)(inputs)\n",
        "    encoder_layer1 = EncoderLayer(num_heads, total_dense_units, embed_dim)(embedding_layer)\n",
        "    encoder_layer2 = EncoderLayer(num_heads, total_dense_units, embed_dim)(encoder_layer1)\n",
        "    token_learning_layer = TokenLearningLayer(n_maps, (n_rows, n_cols))(encoder_layer2)\n",
        "    encoder_layer3 = EncoderLayer(num_heads, total_dense_units, embed_dim)(token_learning_layer)\n",
        "    encoder_layer4 = EncoderLayer(num_heads, total_dense_units, embed_dim)(encoder_layer3)\n",
        "    pooling_layer = GlobalAveragePooling1D()(encoder_layer4)\n",
        "    dense_layer = Dense(150, activation='relu')(pooling_layer)\n",
        "    dropout_layer = Dropout(.5)(dense_layer)\n",
        "    outputs = Dense(n_classes, activation=\"softmax\")(dense_layer)\n",
        "\n",
        "    # Construct the transformer model\n",
        "    fast_vit = Model(inputs=inputs, outputs=outputs)\n",
        "    fast_vit.compile(optimizer=\"adam\", loss=\"categorical_crossentropy\", \n",
        "                              metrics=['accuracy', 'Precision', 'Recall',\n",
        "                                       TopKCategoricalAccuracy(5, name=\"top-5-accuracy\")])\n",
        "    return fast_vit\n",
        "\n",
        "fast_vit = build_fast_vit(train_tokens[0].shape)"
      ]
    },
    {
      "cell_type": "markdown",
      "metadata": {
        "id": "ZGgR8gIeRTFV"
      },
      "source": [
        "Next, let's look at the summary of the model."
      ]
    },
    {
      "cell_type": "code",
      "execution_count": null,
      "metadata": {
        "colab": {
          "base_uri": "https://localhost:8080/"
        },
        "id": "KfKG5os_RTFW",
        "outputId": "5a5659a7-0902-4bf7-9ed7-920762f66355"
      },
      "outputs": [
        {
          "name": "stdout",
          "output_type": "stream",
          "text": [
            "Model: \"model_1\"\n",
            "_________________________________________________________________\n",
            " Layer (type)                Output Shape              Param #   \n",
            "=================================================================\n",
            " input_2 (InputLayer)        [(None, 5, 5, 25)]        0         \n",
            "                                                                 \n",
            " image_embedding_layer_1 (Im  (None, 25, 128)          6578      \n",
            " ageEmbeddingLayer)                                              \n",
            "                                                                 \n",
            " encoder_layer_4 (EncoderLay  (None, 25, 128)          223972    \n",
            " er)                                                             \n",
            "                                                                 \n",
            " encoder_layer_5 (EncoderLay  (None, 25, 128)          223972    \n",
            " er)                                                             \n",
            "                                                                 \n",
            " token_learning_layer (Token  (None, 4, 128)           5184      \n",
            " LearningLayer)                                                  \n",
            "                                                                 \n",
            " encoder_layer_6 (EncoderLay  (None, 4, 128)           223972    \n",
            " er)                                                             \n",
            "                                                                 \n",
            " encoder_layer_7 (EncoderLay  (None, 4, 128)           223972    \n",
            " er)                                                             \n",
            "                                                                 \n",
            " global_average_pooling1d_1   (None, 128)              0         \n",
            " (GlobalAveragePooling1D)                                        \n",
            "                                                                 \n",
            " dense_18 (Dense)            (None, 150)               19350     \n",
            "                                                                 \n",
            " dense_19 (Dense)            (None, 4)                 604       \n",
            "                                                                 \n",
            "=================================================================\n",
            "Total params: 927,604\n",
            "Trainable params: 927,604\n",
            "Non-trainable params: 0\n",
            "_________________________________________________________________\n"
          ]
        }
      ],
      "source": [
        "fast_vit.summary()"
      ]
    },
    {
      "cell_type": "markdown",
      "metadata": {
        "id": "hNFTv42fRTFZ"
      },
      "source": [
        "The summary of *fast_vit* model shows that the *token_learning_layer* takes a 25-by-128 input and reduces it to a 4-by-128 output. Hence, the subsequent encoder layers process 4-by-128 inputs—that is, four tokens instead of 25, thereby reducing the overall number of computations for training the ViT.  "
      ]
    },
    {
      "cell_type": "code",
      "execution_count": null,
      "metadata": {
        "colab": {
          "base_uri": "https://localhost:8080/"
        },
        "id": "ajhFz34vRTFa",
        "outputId": "1393b4f1-804f-417f-c7b4-2dc19e4fd594"
      },
      "outputs": [
        {
          "name": "stdout",
          "output_type": "stream",
          "text": [
            "Epoch 1/6\n",
            "503/503 [==============================] - 75s 141ms/step - loss: 0.4245 - accuracy: 0.8503 - precision: 0.8667 - recall: 0.8332 - top-5-accuracy: 1.0000 - val_loss: 0.3101 - val_accuracy: 0.8900 - val_precision: 0.8996 - val_recall: 0.8827 - val_top-5-accuracy: 1.0000\n",
            "Epoch 2/6\n",
            "503/503 [==============================] - 71s 141ms/step - loss: 0.2782 - accuracy: 0.9082 - precision: 0.9179 - recall: 0.8992 - top-5-accuracy: 1.0000 - val_loss: 0.4236 - val_accuracy: 0.8811 - val_precision: 0.8955 - val_recall: 0.8662 - val_top-5-accuracy: 1.0000\n",
            "Epoch 3/6\n",
            "503/503 [==============================] - 72s 144ms/step - loss: 0.2576 - accuracy: 0.9143 - precision: 0.9254 - recall: 0.9040 - top-5-accuracy: 1.0000 - val_loss: 0.2209 - val_accuracy: 0.9256 - val_precision: 0.9344 - val_recall: 0.9188 - val_top-5-accuracy: 1.0000\n",
            "Epoch 4/6\n",
            "503/503 [==============================] - 72s 143ms/step - loss: 0.2317 - accuracy: 0.9247 - precision: 0.9346 - recall: 0.9150 - top-5-accuracy: 1.0000 - val_loss: 0.2241 - val_accuracy: 0.9270 - val_precision: 0.9319 - val_recall: 0.9225 - val_top-5-accuracy: 1.0000\n",
            "Epoch 5/6\n",
            "503/503 [==============================] - 72s 144ms/step - loss: 0.2223 - accuracy: 0.9261 - precision: 0.9364 - recall: 0.9170 - top-5-accuracy: 1.0000 - val_loss: 0.2157 - val_accuracy: 0.9265 - val_precision: 0.9389 - val_recall: 0.9150 - val_top-5-accuracy: 1.0000\n",
            "Epoch 6/6\n",
            "503/503 [==============================] - 73s 145ms/step - loss: 0.2232 - accuracy: 0.9258 - precision: 0.9352 - recall: 0.9175 - top-5-accuracy: 1.0000 - val_loss: 0.2151 - val_accuracy: 0.9251 - val_precision: 0.9351 - val_recall: 0.9173 - val_top-5-accuracy: 1.0000\n",
            "\n",
            "Time to train fast_vit 436.3671143054962\n"
          ]
        }
      ],
      "source": [
        "start_time = time.time()\n",
        "history_fast = fast_vit.fit(train_tokens, train_Y_categorical, \n",
        "                       batch_size=32, epochs=EPOCHS, validation_split=0.33)\n",
        "end_time = time.time()\n",
        "print('\\nTime to train fast_vit', end_time-start_time)"
      ]
    },
    {
      "cell_type": "markdown",
      "metadata": {
        "id": "Kvn0SgsDRTFc"
      },
      "source": [
        "We can view the learning history of the fast ViT model."
      ]
    },
    {
      "cell_type": "code",
      "execution_count": null,
      "metadata": {
        "colab": {
          "base_uri": "https://localhost:8080/",
          "height": 189
        },
        "id": "lUZPQzVJRTFd",
        "outputId": "221e664b-9f28-4ca8-81e5-0a65ad63c03e"
      },
      "outputs": [
        {
          "data": {
            "image/png": "[encoded data removed]",
            "text/plain": [
              "<Figure size 1296x288 with 5 Axes>"
            ]
          },
          "metadata": {
            "needs_background": "light"
          },
          "output_type": "display_data"
        }
      ],
      "source": [
        "metrics_fast = list(history_fast.history.values())\n",
        "fig = plt.figure(figsize=(18,4))\n",
        "for i in np.arange(n_metrics):\n",
        "    fig.add_subplot(101 + n_metrics*10 +i)    \n",
        "    plt.plot(metrics_fast[i])\n",
        "    plt.plot(metrics_fast[i+n_metrics])\n",
        "    plt.legend(['Training', 'Validation'])\n",
        "    plt.xlabel('Epoch Number')\n",
        "    plt.ylabel(metric_names[i])\n",
        "\n",
        "plt.gcf().suptitle('Learning history of ViT with token learning layer')\n",
        "plt.subplots_adjust(wspace=0.4)    \n",
        "plt.show()"
      ]
    },
    {
      "cell_type": "code",
      "execution_count": null,
      "metadata": {
        "colab": {
          "base_uri": "https://localhost:8080/"
        },
        "id": "gQk9BUdxRTFd",
        "outputId": "0c040cb7-00f5-451b-96b8-7a146c2f3c2b"
      },
      "outputs": [
        {
          "name": "stdout",
          "output_type": "stream",
          "text": [
            "750/750 [==============================] - 34s 44ms/step - loss: 0.1956 - accuracy: 0.9355 - precision: 0.9430 - recall: 0.9286 - top-5-accuracy: 1.0000\n",
            "125/125 [==============================] - 5s 42ms/step - loss: 0.2329 - accuracy: 0.9247 - precision: 0.9333 - recall: 0.9160 - top-5-accuracy: 1.0000\n"
          ]
        }
      ],
      "source": [
        "train_metrics_fast = fast_vit.evaluate(train_tokens,  train_Y_categorical)\n",
        "test_metrics_fast = fast_vit.evaluate(test_tokens,  test_Y_categorical)"
      ]
    },
    {
      "cell_type": "code",
      "execution_count": null,
      "metadata": {
        "colab": {
          "base_uri": "https://localhost:8080/"
        },
        "id": "vH4FROCHRTFe",
        "outputId": "ecf47b4e-0e08-4cca-ae15-6e2f79694603"
      },
      "outputs": [
        {
          "name": "stdout",
          "output_type": "stream",
          "text": [
            "\n",
            "Training set evaluation of fast ViT\n",
            "loss :  0.19556963443756104\n",
            "accuracy :  0.9355416893959045\n",
            "precision :  0.9430433511734009\n",
            "recall :  0.9285833239555359\n",
            "top-5-accuracy :  1.0\n",
            "\n",
            "Test set evaluation of ViT\n",
            "loss :  0.23290909826755524\n",
            "accuracy :  0.9247499704360962\n",
            "precision :  0.9332653880119324\n",
            "recall :  0.9160000085830688\n",
            "top-5-accuracy :  1.0\n"
          ]
        }
      ],
      "source": [
        "print('\\nTraining set evaluation of fast ViT')\n",
        "for i, value in enumerate(train_metrics_fast):\n",
        "    print(metric_names[i], ': ', value)\n",
        "print('\\nTest set evaluation of ViT')\n",
        "for i, value in enumerate(test_metrics_fast):\n",
        "    print(metric_names[i], ': ', value)"
      ]
    },
    {
      "cell_type": "markdown",
      "metadata": {
        "id": "CAky6dCGRTFf"
      },
      "source": [
        "## What Do the Results Indicate?\n",
        "\n",
        "Adding a *TokenLearningLayer* to the network reduces the number of parameters of the layers following it, which also reduces the training time. In this example, I have used the *time* class to estimate the CPU time for training both the ViT and the fast ViT models. The overall time and the ms/step are both less for the later model. While this may be a crude method to judge the running time of a function, it still gives us a pretty good idea of the reduction in overall computation time. You can use more sophisticated measures for profiling. \n",
        "\n",
        "Also, if you run this multiple times, you'll note that the accuracy of both models is about the same, if not better, for the fast ViT model in terms of the metrics. \n",
        "\n",
        "For larger datasets with bigger images, you may have deeper networks. In this case, you would see a significant reduction in the number of variables involved and computation time. \n",
        "\n",
        "## What's Next?\n",
        "\n",
        "Now that you know how to build a *TokenLearner* layer, you can experiment with different transformer hyper-parameters including the number of encoder layers, number of heads used in the encoder layer, number of feature maps in the *TokenLearner* and the number of dense units. For larger datasets, you may want to add parameters to stabilize weight training during the training phase. If you want to add the *TokenLearner* again to the transformer, you'll have to use it with a *[TokenFuser](https://proceedings.neurips.cc/paper/2021/hash/6a30e32e56fce5cf381895dfe6ca7b6f-Abstract.html)*, which remaps the feature maps back to their original spatial dimension.\n",
        "\n",
        "## Learn More\n",
        "\n",
        "- [An Image Is Worth 16X16 Words: Transformer for Image Recognition at Scale](https://arxiv.org/abs/2010.11929)\n",
        "- [TokenLearner: Adaptive Space-Time Tokenization for Videos](https://proceedings.neurips.cc/paper/2021/hash/6a30e32e56fce5cf381895dfe6ca7b6f-Abstract.html)\n",
        "- [Attention Models: What They Are and Why They Matter](https://exchange.scale.com/public/blogs/attention-models-what-they-are-and-why-they-matter)\n",
        "- [Transformers: What They Are and Why They Matter](https://exchange.scale.com/public/blogs/transformers-what-they-are-and-why-they-matter)\n",
        "- [How to Build a Transformer for Supervised Classification]( https://exchange.scale.com/public/blogs/how-to-build-a-transformer-for-supervised-classification)\n"
      ]
    }
  ],
  "metadata": {
    "colab": {
      "collapsed_sections": [],
      "provenance": []
    },
    "kernelspec": {
      "display_name": "Python 3",
      "language": "python",
      "name": "python3"
    },
    "language_info": {
      "codemirror_mode": {
        "name": "ipython",
        "version": 3
      },
      "file_extension": ".py",
      "mimetype": "text/x-python",
      "name": "python",
      "nbconvert_exporter": "python",
      "pygments_lexer": "ipython3",
      "version": "3.8.3"
    }
  },
  "nbformat": 4,
  "nbformat_minor": 0
}
