{
 "cells": [
  {
   "cell_type": "markdown",
   "metadata": {
    "id": "zSRkRe8K0YLF"
   },
   "source": [
    "# How to Build a Fully Connected, Feedforward Neural Network Using Keras and TensorFlow\n",
    "\n",
    "[![Open In Colab](https://colab.research.google.com/assets/colab-badge.svg)](https://colab.research.google.com/github/scaleapi/dev-blog/blob/main/exchange-simple-nn/simpleNNFromColab.ipynb)\n",
    "\n",
    "**Subtitle**: Here's how to build a simple neural network with one hidden layer using the TensorFlow library.\n",
    "\n",
    "**Summary**: You can easily build a fully connected, feedforward neural network using objects and APIs from the TensorFlow library. Here are the basics of what you need to know.\n",
    "\n",
    "**Byline**: Mehreen Saeed \n",
    "\n",
    "Deep learning has revolutionized the world of machine learning. More and more ML practitioners are adopting deep learning networks to solve real-world problems. Compared to the more traditional ML models, deep learning networks have been shown superior performance for many applications. \n",
    "\n",
    "The first step toward using deep learning networks is to understand the working of a simple feedforward neural network. To help you get started, this tutorial explains how you can build your first neural network model using Keras running on top of the Tensorflow library. \n",
    "\n",
    "[TensorFlow](https://www.tensorflow.org/) is an open-source platform for machine learning. [Keras](https://keras.io/about/) is the high-level application programming interface (API) of TensorFlow. Using Keras, you can rapidly develop a prototype system and test it out. \n",
    "\n",
    "# A Conceptual Diagram of the Neural Network\n",
    "\n",
    "In this tutorial, we'll build a supervised classification model that learns to identify digits from images. We'll use the well-known [MNIST dataset](https://www.tensorflow.org/datasets/catalog/mnist) to train and test our model. The MNIST dataset consists of 28-by-28 images of handwritten digits along with their corresponding labels.\n",
    "\n",
    "We'll construct a neural network with one hidden layer to classify each digit image into its corresponding label. The figure below shows a conceptual diagram of the neural network we are about to build. The output layer consists of 10 units, where each unit corresponds to a different digit. Each unit computes a value that can be interpreted as the confidence value of its respective digit. The final classification is the digit with the maximum confidence value.\n",
    "\n",
    "\n",
    "![Figure 1: Conceptual diagram of the neural network](SimpleNNFigures1.jpg)\n",
    "<p align = \"center\"> <b>Figure 1:</b> Conceptual diagram of the neural network. Each output unit corresponds to a digit and has its confidence value. \n",
    "The final classification is the digit with the maximum confidence value. Source: Mehreen Saeed</p>"
   ]
  },
  {
   "cell_type": "markdown",
   "metadata": {
    "id": "LF8Iq1iy0YLI"
   },
   "source": [
    "# The TensorFlow and Keras Libraries\n",
    "\n",
    "If Keras and TensorFlow are not installed on your system, you can easily do so using `pip` or `conda` depending upon your Python environment. To start the implementation, add the following import section to your code. "
   ]
  },
  {
   "cell_type": "code",
   "execution_count": null,
   "metadata": {
    "id": "6WCO8ffD0YLJ"
   },
   "outputs": [],
   "source": [
    "import tensorflow as tf\n",
    "# For layers\n",
    "from tensorflow.keras.layers import Flatten, Dense\n",
    "# For miscellaneous functions\n",
    "from tensorflow.keras import utils\n",
    "# For datasets\n",
    "from tensorflow.keras.datasets import mnist\n",
    "# For math functions and arrays\n",
    "import numpy as np\n",
    "# For plotting\n",
    "import matplotlib.pyplot as plt"
   ]
  },
  {
   "cell_type": "markdown",
   "metadata": {
    "id": "YCBpqy2c0YLL"
   },
   "source": [
    "# What Is a Tensor?\n",
    "\n",
    "A tensor is a mathematical object that provides a simple framework for modeling physical phenomena and solving problems in mathematics and physics. In the context of ML, a tensor is a multidimensional array, which in its simplest form is a scalar. Vectors and matrices are special cases of tensors.\n",
    "\n",
    "In TensorFlow, a [tensor](https://www.tensorflow.org/guide/tensor) is a data structure. It is a multidimensional array composed of elements of the same type. The term *rank* is used to describe the number of axes in the tensor. Scalars are tensors of rank 0, vectors have rank 1, and matrices have rank 2. Generally, a tensor can define a multidimensional array of rank *n* as shown in the code below. You can use Python's standard indexing and slicing operations to access the elements of the tensor."
   ]
  },
  {
   "cell_type": "code",
   "execution_count": null,
   "metadata": {
    "colab": {
     "base_uri": "https://localhost:8080/"
    },
    "id": "dkaBm4n_0YLM",
    "outputId": "21f0dfa6-2c0f-4ed3-b42b-f6e00636cc8a"
   },
   "outputs": [
    {
     "name": "stdout",
     "output_type": "stream",
     "text": [
      "Scalar:  tf.Tensor(0, shape=(), dtype=int32)\n",
      "Vector:  tf.Tensor([0 1 2], shape=(3,), dtype=int32)\n",
      "Matrix:  tf.Tensor(\n",
      "[[0 1]\n",
      " [1 2]\n",
      " [2 3]], shape=(3, 2), dtype=int32)\n"
     ]
    }
   ],
   "source": [
    "scalar = tf.constant(0)\n",
    "vector = tf.constant([0, 1, 2])\n",
    "matrix = tf.constant([[0, 1], [1, 2], [2, 3]])\n",
    "print('Scalar: ', scalar)\n",
    "print('Vector: ', vector)\n",
    "print('Matrix: ', matrix)"
   ]
  },
  {
   "cell_type": "markdown",
   "metadata": {
    "id": "NNDU7iRT0YLO"
   },
   "source": [
    "## Why Are Tensors Important?\n",
    "\n",
    "In TensorFlow, tensors are used to encapsulate all inputs and outputs to a deep learning network. The training dataset and each test example has to be cast as a tensor. All operations within the layers of the network are also performed on tensors. \n",
    "\n",
    "## How Do I Convert Between Tensors and NumPy Arrays?"
   ]
  },
  {
   "cell_type": "markdown",
   "metadata": {
    "id": "2Nl88cKd0YLO"
   },
   "source": [
    "You can convert [a NumPy array](https://www.w3schools.com/python/numpy/default.asp) to a tensor using TensorFlow's `convert_to_tensor()` method, as shown in the code below. The optional argument `dtype` specifies the type of each item of the tensor."
   ]
  },
  {
   "cell_type": "code",
   "execution_count": null,
   "metadata": {
    "colab": {
     "base_uri": "https://localhost:8080/"
    },
    "id": "1Dt1utGj0YLP",
    "outputId": "550768e1-c4dd-4fa3-f5d6-d841488e7540"
   },
   "outputs": [
    {
     "name": "stdout",
     "output_type": "stream",
     "text": [
      "NumPy array to tensor:  tf.Tensor(\n",
      "[[1. 2.]\n",
      " [3. 4.]\n",
      " [5. 6.]], shape=(3, 2), dtype=float32)\n"
     ]
    }
   ],
   "source": [
    "x = np.array([[1, 2], [3, 4], [5, 6]])\n",
    "x_tensor = tf.convert_to_tensor(x, dtype=tf.float32)\n",
    "print('NumPy array to tensor: ', x_tensor)"
   ]
  },
  {
   "cell_type": "markdown",
   "metadata": {
    "id": "2RfSKTZM0YLR"
   },
   "source": [
    "Similarly, you can use the `numpy()` method to access the encapsulated array inside the tensor. Alternatively, you can retrieve the array using the `array()` method of NumPy. Below is an example of both methods:"
   ]
  },
  {
   "cell_type": "code",
   "execution_count": null,
   "metadata": {
    "colab": {
     "base_uri": "https://localhost:8080/"
    },
    "id": "apn5GaI10YLR",
    "outputId": "012a322f-3cc3-4291-a759-5783a020671f"
   },
   "outputs": [
    {
     "name": "stdout",
     "output_type": "stream",
     "text": [
      "Tensor to NumPy array using numpy():\n",
      " [[1. 2.]\n",
      " [3. 4.]\n",
      " [5. 6.]]\n",
      "Tensor to NumPy array using NumPy array():\n",
      " [[1. 2.]\n",
      " [3. 4.]\n",
      " [5. 6.]]\n"
     ]
    }
   ],
   "source": [
    "x_back_to_numpy = x_tensor.numpy()\n",
    "print('Tensor to NumPy array using numpy():\\n', x_back_to_numpy)\n",
    "x_back_to_numpy2 = np.array(x_tensor)\n",
    "print('Tensor to NumPy array using NumPy array():\\n', x_back_to_numpy2)"
   ]
  },
  {
   "cell_type": "markdown",
   "metadata": {
    "id": "3-coSmgX0YLS"
   },
   "source": [
    "# What Are Layers in TensorFlow?\n",
    "\n",
    "You can build a fully connected feedforward neural network by stacking layers sequentially so that the output of one layer becomes the input to the next. In TensorFlow, layers are callable objects, which take tensors as input and generate outputs that are also tensors. Layers can contain weights and biases, which are both tuned during the training phase. We'll create a simple neural network from two layers:\n",
    "\n",
    "1. Flatten layer\n",
    "1. Dense layer\n",
    "\n",
    "## The Flatten Layer\n",
    "\n",
    "This layer flattens an input tensor without changing its values. Given a tensor of rank `n`, the `Flatten` layer reshapes it to a tensor of rank 2. The number of elements on the first axis remains unchanged. The elements of the input tensor's remaining axes are stacked together to form a single axis. We need this layer to create a vectorized version of each image for further input to the next layer. Below is an example."
   ]
  },
  {
   "cell_type": "code",
   "execution_count": null,
   "metadata": {
    "colab": {
     "base_uri": "https://localhost:8080/"
    },
    "id": "NIzY6aCD0YLU",
    "outputId": "877410fe-f15d-427a-d034-95c76e265ab6"
   },
   "outputs": [
    {
     "name": "stdout",
     "output_type": "stream",
     "text": [
      "Tensor before flatten:  tf.Tensor(\n",
      "[[[ 0  1]\n",
      "  [ 1  2]\n",
      "  [ 2  3]]\n",
      "\n",
      " [[10 11]\n",
      "  [11 12]\n",
      "  [12 13]]], shape=(2, 3, 2), dtype=int32)\n",
      "Tensor after flatten: \n",
      " tf.Tensor(\n",
      "[[ 0  1  1  2  2  3]\n",
      " [10 11 11 12 12 13]], shape=(2, 6), dtype=int32)\n"
     ]
    }
   ],
   "source": [
    "flatten_layer = Flatten()\n",
    "x = tf.constant([[[0, 1], [1, 2], [2, 3]], \n",
    "                 [[10, 11], [11, 12], [12, 13]]])\n",
    "x_flat = flatten_layer(x)\n",
    "print('Tensor before flatten: ', x)\n",
    "\n",
    "print('Tensor after flatten: \\n', x_flat)"
   ]
  },
  {
   "cell_type": "markdown",
   "metadata": {
    "id": "QqJS_mLS0YLW"
   },
   "source": [
    "## The Dense Layer\n",
    "\n",
    "The dense layer is the fully connected, feedforward layer of a neural network. It computes the weighted sum of the inputs, adds a bias, and passes the output through an activation function. We are using the `ReLU` activation function for this example. The `ReLU` activation function does not change any value greater than 0. The rest of the values are all set to 0.\n",
    "\n",
    "This code snippet shows how you can set up a dense layer. "
   ]
  },
  {
   "cell_type": "code",
   "execution_count": null,
   "metadata": {
    "colab": {
     "base_uri": "https://localhost:8080/"
    },
    "id": "z0lSBqQr0YLX",
    "outputId": "542d0113-e06d-4d00-cc99-634bde2471d6"
   },
   "outputs": [
    {
     "name": "stdout",
     "output_type": "stream",
     "text": [
      "tf.Tensor([[[2. 0.]]], shape=(1, 1, 2), dtype=float32)\n"
     ]
    }
   ],
   "source": [
    "# Define weights and biases for this layer\n",
    "weights = tf.constant([[1, -1],[0, 1], [2, -2]])\n",
    "bias = tf.constant([3, -4])\n",
    "# Set up the dense layer with linear activation function\n",
    "dense_layer = tf.keras.layers.Dense(units=2, activation='relu')\n",
    "dense_layer.build(input_shape=(1, 3))\n",
    "dense_layer.set_weights([weights, bias])\n",
    "\n",
    "x = tf.constant([[[1, 2, -1]]])\n",
    "dense_output = dense_layer(x)\n",
    "print(dense_output)\n"
   ]
  },
  {
   "cell_type": "markdown",
   "metadata": {
    "id": "s17jUqe70YLX"
   },
   "source": [
    "The computations of this layer for the parameters shown in the code above are all illustrated in the figure below.\n",
    "\n",
    "![Figure 2: Hidden layer computations](SimpleNNFigures2.jpg)\n",
    "<p align = \"center\"> <b>Figure 2:</b> Hidden layer computations. Source: Mehreen Saeed</p>"
   ]
  },
  {
   "cell_type": "markdown",
   "metadata": {
    "id": "cGHZE5rd0YLY"
   },
   "source": [
    "# Creating a Model in TensorFlow\n",
    "\n",
    "We are now ready to create a model of a simple neural network with one hidden layer. The simplest method is to use `Sequential()` with a list of all the layers you want to stack together. The code below creates a model and prints its summary. Note the use of `relu` as the activation function in the first dense layer and a `softmax` in the output layer. The `softmax` function normalizes all outputs to sum to 1 and ensures that they are in the range [0, 1]."
   ]
  },
  {
   "cell_type": "code",
   "execution_count": null,
   "metadata": {
    "colab": {
     "base_uri": "https://localhost:8080/"
    },
    "id": "kxbovR-N0YLZ",
    "outputId": "2decc39f-933d-4024-c565-27ce9c5c6841"
   },
   "outputs": [
    {
     "name": "stdout",
     "output_type": "stream",
     "text": [
      "Model: \"sequential\"\n",
      "_________________________________________________________________\n",
      " Layer (type)                Output Shape              Param #   \n",
      "=================================================================\n",
      " flatten_1 (Flatten)         (None, 784)               0         \n",
      "                                                                 \n",
      " dense_1 (Dense)             (None, 64)                50240     \n",
      "                                                                 \n",
      " dense_2 (Dense)             (None, 10)                650       \n",
      "                                                                 \n",
      "=================================================================\n",
      "Total params: 50,890\n",
      "Trainable params: 50,890\n",
      "Non-trainable params: 0\n",
      "_________________________________________________________________\n"
     ]
    }
   ],
   "source": [
    "model = tf.keras.Sequential([\n",
    "    tf.keras.layers.Flatten(input_shape=(28, 28)),\n",
    "    tf.keras.layers.Dense(64, activation='relu'),\n",
    "    tf.keras.layers.Dense(10, activation='softmax')\n",
    "])\n",
    "model.summary()"
   ]
  },
  {
   "cell_type": "markdown",
   "metadata": {
    "id": "9UNnnOFW0YLa"
   },
   "source": [
    "## Compile the Model\n",
    "\n",
    "The next step is to compile the model. Here, we specify the optimizer and loss function of our model. The optimization algorithm determines how the connection weights are updated at each training step with respect to the given loss function. Because we have a multiclass classification problem, the loss function we'll use is `categorical_crossentropy`, coupled with the `adam` optimizer. You can experiment with other [optimizers](https://www.tensorflow.org/api_docs/python/tf/keras/optimizers) too. The value of the [metrics](https://www.tensorflow.org/api_docs/python/tf/keras/metrics) argument sets the parameter to monitor and record during the training phase."
   ]
  },
  {
   "cell_type": "code",
   "execution_count": null,
   "metadata": {
    "id": "fUhhX_m20YLb"
   },
   "outputs": [],
   "source": [
    "model.compile(optimizer='adam', loss='categorical_crossentropy', metrics=['accuracy'])"
   ]
  },
  {
   "cell_type": "markdown",
   "metadata": {
    "id": "W350cton0YLb"
   },
   "source": [
    "# Train the Neural Network\n",
    "\n",
    "Now that our model is ready, it's time to train it. We'll load the dataset, train the model, and view the training process. Note that the outputs shown here will vary with every run of the program because of the stochastic nature of the algorithms involved.\n",
    "\n",
    "## Load the Dataset\n",
    "The following code loads the training set and the test set of the MNIST data. It also prints the statistics of both sets. Because our model has 10 outputs, one for each digit, we need to convert the absolute image labels to categorical ones. The `utils` module in the `Keras` library provides the method `to_categorical()` for this conversion. "
   ]
  },
  {
   "cell_type": "code",
   "execution_count": null,
   "metadata": {
    "colab": {
     "base_uri": "https://localhost:8080/"
    },
    "id": "I_N02CPh0YLc",
    "outputId": "1e52fc1e-0fd7-4c73-9a3f-3feb2b3b149f"
   },
   "outputs": [
    {
     "name": "stdout",
     "output_type": "stream",
     "text": [
      "Downloading data from https://storage.googleapis.com/tensorflow/tf-keras-datasets/mnist.npz\n",
      "11493376/11490434 [==============================] - 0s 0us/step\n",
      "11501568/11490434 [==============================] - 0s 0us/step\n",
      "Training data shape:  (60000, 28, 28)\n",
      "Training labels shape:  (60000,)\n",
      "Test data shape:  (10000, 28, 28)\n",
      "Test labels shape:  (10000,)\n"
     ]
    }
   ],
   "source": [
    "(train_X, train_Y), (test_X, test_Y) = mnist.load_data()\n",
    "train_Y_categorical = utils.to_categorical(train_Y)\n",
    "test_Y_categorical = utils.to_categorical(test_Y)\n",
    "\n",
    "print(\"Training data shape: \", train_X.shape)\n",
    "print(\"Training labels shape: \", train_Y.shape)\n",
    "print(\"Test data shape: \", test_X.shape)\n",
    "print(\"Test labels shape: \", test_Y.shape)"
   ]
  },
  {
   "cell_type": "markdown",
   "metadata": {
    "id": "ZQw3OlEE0YLd"
   },
   "source": [
    "## Train the Model\n",
    "\n",
    "The `fit()` method of the model object trains the neural network. If you want to use a validation set during training, all you have to do is define the percentage of validation examples to be taken from the training set. The splitting of the training set into a train and validation set is automatically taken care of by the `fit()` method. \n",
    "\n",
    "In the code below, the `fit()` method is called with a validation split of 33% and 10 epochs. "
   ]
  },
  {
   "cell_type": "code",
   "execution_count": null,
   "metadata": {
    "colab": {
     "base_uri": "https://localhost:8080/"
    },
    "id": "WatmCa_q0YLe",
    "outputId": "730d0124-571e-4a8f-94a6-c33d7de12835"
   },
   "outputs": [
    {
     "name": "stdout",
     "output_type": "stream",
     "text": [
      "Epoch 1/10\n",
      "1257/1257 [==============================] - 11s 8ms/step - loss: 3.3174 - accuracy: 0.7629 - val_loss: 0.7075 - val_accuracy: 0.8339\n",
      "Epoch 2/10\n",
      "1257/1257 [==============================] - 11s 8ms/step - loss: 0.6070 - accuracy: 0.8547 - val_loss: 0.5852 - val_accuracy: 0.8562\n",
      "Epoch 3/10\n",
      "1257/1257 [==============================] - 6s 5ms/step - loss: 0.4346 - accuracy: 0.8897 - val_loss: 0.4299 - val_accuracy: 0.8969\n",
      "Epoch 4/10\n",
      "1257/1257 [==============================] - 5s 4ms/step - loss: 0.3645 - accuracy: 0.9061 - val_loss: 0.3827 - val_accuracy: 0.9056\n",
      "Epoch 5/10\n",
      "1257/1257 [==============================] - 4s 4ms/step - loss: 0.3079 - accuracy: 0.9209 - val_loss: 0.3723 - val_accuracy: 0.9156\n",
      "Epoch 6/10\n",
      "1257/1257 [==============================] - 4s 3ms/step - loss: 0.2835 - accuracy: 0.9261 - val_loss: 0.3323 - val_accuracy: 0.9185\n",
      "Epoch 7/10\n",
      "1257/1257 [==============================] - 5s 4ms/step - loss: 0.2644 - accuracy: 0.9304 - val_loss: 0.3374 - val_accuracy: 0.9211\n",
      "Epoch 8/10\n",
      "1257/1257 [==============================] - 4s 3ms/step - loss: 0.2505 - accuracy: 0.9327 - val_loss: 0.3258 - val_accuracy: 0.9301\n",
      "Epoch 9/10\n",
      "1257/1257 [==============================] - 4s 3ms/step - loss: 0.2409 - accuracy: 0.9362 - val_loss: 0.3156 - val_accuracy: 0.9192\n",
      "Epoch 10/10\n",
      "1257/1257 [==============================] - 4s 3ms/step - loss: 0.2246 - accuracy: 0.9410 - val_loss: 0.3096 - val_accuracy: 0.9281\n"
     ]
    }
   ],
   "source": [
    "history = model.fit(train_X, train_Y_categorical, epochs=10, validation_split=0.33)"
   ]
  },
  {
   "cell_type": "markdown",
   "metadata": {
    "id": "WJqRzEZr0YLf"
   },
   "source": [
    "## View the Training Process"
   ]
  },
  {
   "cell_type": "markdown",
   "metadata": {
    "id": "tdEJN-Xg0YLf"
   },
   "source": [
    "The `fit()` method returns a history object with detailed information regarding model training. The `history` attribute is a dictionary object. Let's look at the keys of this object."
   ]
  },
  {
   "cell_type": "code",
   "execution_count": null,
   "metadata": {
    "colab": {
     "base_uri": "https://localhost:8080/"
    },
    "id": "dyvdBJQL0YLg",
    "outputId": "f9b0062a-ee28-484f-83fa-af1f80001dfa"
   },
   "outputs": [
    {
     "name": "stdout",
     "output_type": "stream",
     "text": [
      "dict_keys(['loss', 'accuracy', 'val_loss', 'val_accuracy'])\n"
     ]
    }
   ],
   "source": [
    "print(history.history.keys())"
   ]
  },
  {
   "cell_type": "markdown",
   "metadata": {
    "id": "-cNqJDKa0YLh"
   },
   "source": [
    "To view the learning process, we can plot the accuracy and loss corresponding to different epochs for both the training and validation sets. The following code creates two graphs for these two metrics."
   ]
  },
  {
   "cell_type": "code",
   "execution_count": null,
   "metadata": {
    "colab": {
     "base_uri": "https://localhost:8080/",
     "height": 295
    },
    "id": "qsRIejWz0YLh",
    "outputId": "aad01ca8-8a53-4fb0-90ee-43eaef975c64"
   },
   "outputs": [
    {
     "data": {
      "image/png": "[encoded data removed]",
      "text/plain": [
       "<Figure size 1080x288 with 2 Axes>"
      ]
     },
     "metadata": {
      "needs_background": "light"
     },
     "output_type": "display_data"
    }
   ],
   "source": [
    "fig = plt.figure(figsize=(15,4))\n",
    "\n",
    "fig.add_subplot(121)\n",
    "plt.plot(history.history['accuracy'])\n",
    "plt.plot(history.history['val_accuracy'])\n",
    "plt.legend(['Training accuracy', 'Validation accuracy'])\n",
    "plt.title('Training and validation accuracy')\n",
    "plt.xlabel('Epoch Number')\n",
    "plt.ylabel('Accuracy')\n",
    "\n",
    "fig.add_subplot(122)\n",
    "plt.plot(history.history['loss'])\n",
    "plt.plot(history.history['val_loss'])\n",
    "plt.legend(['Training loss', 'Validation loss'])\n",
    "plt.title('Training and validation loss')\n",
    "plt.xlabel('Epoch Number')\n",
    "plt.ylabel('Loss')\n",
    "plt.show()"
   ]
  },
  {
   "cell_type": "markdown",
   "metadata": {
    "id": "EFxTTdkK0YLi"
   },
   "source": [
    "As expected, the accuracy of the training set increases as the epochs increase. The validation accuracy is lower than the training accuracy of the final trained model."
   ]
  },
  {
   "cell_type": "markdown",
   "metadata": {
    "id": "QlYBjqMl0YLj"
   },
   "source": [
    "# Evaluate the Model\n",
    "This section explains various ways in which you can evaluate the model we just built.\n",
    "\n",
    "\n",
    "## The `predict()` method"
   ]
  },
  {
   "cell_type": "markdown",
   "metadata": {
    "id": "BovHETvS0YLj"
   },
   "source": [
    "If you want to see the output of the network for one or more train/test examples, you can use the `predict()` method. The following example code prints the values of the output layer when the first test image is used as an input. It is a 10-dimensional vector of confidence values corresponding to each digit. The final classification of the image is the `argmax()` of this vector."
   ]
  },
  {
   "cell_type": "code",
   "execution_count": null,
   "metadata": {
    "colab": {
     "base_uri": "https://localhost:8080/"
    },
    "id": "9zWGdHl90YLk",
    "outputId": "d7930a9a-fafb-4675-ca37-887131940ea9"
   },
   "outputs": [
    {
     "name": "stdout",
     "output_type": "stream",
     "text": [
      "Predict shape:  (1, 10)\n",
      "Prediction for first test image: \n",
      " [2.2790584e-14 2.7459364e-06 1.5208124e-06 2.2439483e-06 5.7427778e-11\n",
      " 8.7490918e-08 0.0000000e+00 9.9999332e-01 1.6238917e-16 4.1241907e-10]\n",
      "Classification of the first test image: digit  7\n"
     ]
    }
   ],
   "source": [
    "predict = model.predict(test_X[:1,:,:])\n",
    "print('Predict shape: ', predict.shape)\n",
    "print('Prediction for first test image: \\n', predict[0])\n",
    "print('Classification of the first test image: digit ', np.argmax(predict[0]))"
   ]
  },
  {
   "cell_type": "markdown",
   "metadata": {
    "id": "Z7T535_P0YLl"
   },
   "source": [
    "## The `evaluate()` method\n",
    "\n",
    "The `evaluate()` method computes the overall accuracy of the model on the dataset passed as an argument. The code snippet below prints the classification accuracy on both the training set and the test set."
   ]
  },
  {
   "cell_type": "code",
   "execution_count": null,
   "metadata": {
    "colab": {
     "base_uri": "https://localhost:8080/"
    },
    "id": "CvbK7I7b0YLl",
    "outputId": "50552fdd-f49d-47c9-c43b-dc4f11798248"
   },
   "outputs": [
    {
     "name": "stdout",
     "output_type": "stream",
     "text": [
      "1875/1875 [==============================] - 5s 3ms/step - loss: 0.2280 - accuracy: 0.9401\n",
      "313/313 [==============================] - 1s 2ms/step - loss: 0.2881 - accuracy: 0.9350\n",
      "Classification accuracy on training set:  0.9401333332061768\n",
      "Classification accuracy on test set:  0.9350000023841858\n"
     ]
    }
   ],
   "source": [
    "train_loss, train_acc = model.evaluate(train_X,  train_Y_categorical)\n",
    "test_loss, test_acc = model.evaluate(test_X,  test_Y_categorical)\n",
    "print('Classification accuracy on training set: ', train_acc)\n",
    "print('Classification accuracy on test set: ', test_acc)"
   ]
  },
  {
   "cell_type": "markdown",
   "metadata": {
    "id": "REvFNCjp0YLm"
   },
   "source": [
    "## View the Confusion Matrix\n",
    "\n",
    "TensorFlow's `math` module has the `confusion_matrix()` method that computes the confusion matrix of the classification result as shown below. "
   ]
  },
  {
   "cell_type": "code",
   "execution_count": null,
   "metadata": {
    "colab": {
     "base_uri": "https://localhost:8080/"
    },
    "id": "Apu7n5T_0YLm",
    "outputId": "db43e6c3-4a16-4a1c-fc79-4173f9c71f33"
   },
   "outputs": [
    {
     "name": "stdout",
     "output_type": "stream",
     "text": [
      "Confusion matrix of the test set:\n",
      " tf.Tensor(\n",
      "[[ 897    0    2    0    3    1   13    4   60    0]\n",
      " [   0 1115    3    2    0    2    2    4    7    0]\n",
      " [   2    1  948    6    6    1    6    9   51    2]\n",
      " [   1    1   26  927    1   14    0    5   25   10]\n",
      " [   0    2    6    1  934    0    6    4   11   18]\n",
      " [   1    0    1   35    2  806   13    3   27    4]\n",
      " [   3    3    5    0   12    6  913    0   15    1]\n",
      " [   0    2   22    2    4    1    0  981    8    8]\n",
      " [   2    1   17    6    6   11    5    5  915    6]\n",
      " [   1    3    1   17   20    6    0   20   27  914]], shape=(10, 10), dtype=int32)\n"
     ]
    }
   ],
   "source": [
    "test_predict = model.predict(test_X)\n",
    "# Get the classification labels\n",
    "test_predict_labels = np.argmax(test_predict, axis=1)\n",
    "confusion_matrix = tf.math.confusion_matrix(labels=test_Y, predictions=test_predict_labels)\n",
    "print('Confusion matrix of the test set:\\n', confusion_matrix)"
   ]
  },
  {
   "cell_type": "markdown",
   "metadata": {
    "id": "kA7VmLeg0YLn"
   },
   "source": [
    "# Visualize Hidden Layer Outputs\n",
    "\n",
    "The next piece of code shows you how you can access the individual layers of the neural network we just built. The neural network is considered a black box because of the numerous computations going on inside it. It's hard to figure out exactly how it is performing classification. Our network has 64 hidden units that create a mapping of an input image to a 64-dimensional vector. There are several ways of looking at the hidden layer output. Printing its output as numbers will not be very meaningful for us. However, we can reshape this layer's output to an 8-by-8 image and display the image. \n",
    "\n",
    "Here is how you can access the various trained layers of the model. "
   ]
  },
  {
   "cell_type": "code",
   "execution_count": null,
   "metadata": {
    "id": "OwCz5_-L0YLn"
   },
   "outputs": [],
   "source": [
    "flat_layer = model.layers[0]\n",
    "hidden_layer = model.layers[1]\n",
    "output_layer = model.layers[2]"
   ]
  },
  {
   "cell_type": "markdown",
   "metadata": {
    "id": "5YAPTTdd0YLo"
   },
   "source": [
    "The function `get_hidden_layer_output()` defined below ***takes as parameters the model*** and an input image as *X*. It converts *X* to a tensor and passes it through the different layers of the model. Next, it returns the output of the hidden layer and the corresponding image classification from the output layer back to the caller."
   ]
  },
  {
   "cell_type": "code",
   "execution_count": null,
   "metadata": {
    "id": "WqvW7wyI0YLo"
   },
   "outputs": [],
   "source": [
    "def get_hidden_layer_output(model, X):  \n",
    "    # Convert X to a tensor\n",
    "    x = tf.convert_to_tensor(np.reshape(X, (1, 28, 28)),\n",
    "                             dtype=tf.dtypes.float32)\n",
    "    # Model layers\n",
    "    flat_layer = model.layers[0]\n",
    "    hidden_layer = model.layers[1]\n",
    "    output_layer = model.layers[2]\n",
    "    # Pass x through different layers\n",
    "    flat_tensor = flat_layer(x)\n",
    "    hidden_tensor = hidden_layer(flat_tensor)\n",
    "    output_tensor = output_layer(hidden_tensor)\n",
    "    predicted_digit = np.argmax(output_tensor)\n",
    "    return hidden_tensor, predicted_digit"
   ]
  },
  {
   "cell_type": "markdown",
   "metadata": {
    "id": "dsXuUkit0YLp"
   },
   "source": [
    "The following code renders two image rows. An input image and its true label are displayed in the first row. The hidden layer representation of each image and our neural network's classification of it are shown in the second row."
   ]
  },
  {
   "cell_type": "code",
   "execution_count": null,
   "metadata": {
    "colab": {
     "base_uri": "https://localhost:8080/",
     "height": 278
    },
    "id": "w0Mhrr6A0YLq",
    "outputId": "0a5f4bcb-9d1b-490e-fc95-fe8853111451"
   },
   "outputs": [
    {
     "data": {
      "image/png": "[encoded data removed]",
      "text/plain": [
       "<Figure size 1296x288 with 16 Axes>"
      ]
     },
     "metadata": {},
     "output_type": "display_data"
    }
   ],
   "source": [
    "total_cols = 8\n",
    "fig, ax = plt.subplots(nrows=2, ncols=total_cols,\n",
    "                      figsize=(18,4),\n",
    "                      subplot_kw=dict(xticks=[], yticks=[]))\n",
    "\n",
    "for j in range(total_cols):\n",
    "    image = test_X[j, :, :]\n",
    "    h, prediction = get_hidden_layer_output(model, image)\n",
    "    ax[0, j].imshow(image)\n",
    "    ax[1, j].imshow(np.reshape(h.numpy(), (8,8)))   \n",
    "    ax[0, j].set_title('Digit ' + str(test_Y[j]))\n",
    "    ax[1, j].set_title('Classification ' + str(prediction))\n",
    "plt.title('MNIST Digits and Their Hidden Layer Representation', y=-0.4, x=-4)    \n",
    "plt.show()    \n"
   ]
  },
  {
   "cell_type": "markdown",
   "metadata": {
    "id": "_Ym--oDT0YLr"
   },
   "source": [
    "The images of the hidden layer have only one to four pixels with significantly large values. The rest of the values are 0 or close to 0. Hence, we have a sparse and compressed hidden layer version of a digit's image, which is further used for classification. This illustrates the power of neural networks to map inputs to small but relevant representations for classification."
   ]
  },
  {
   "cell_type": "markdown",
   "metadata": {
    "id": "MqwW0L770YLs"
   },
   "source": [
    "# What's Next?\n",
    "\n",
    "Building a fully connected feedforward neural network in TensorFlow is easy, provided you have a basic understanding of tensors and layers. We just constructed a simple neural network with a single hidden layer to classify handwritten images of digits, and managed to get reasonably good accuracy. \n",
    "\n",
    "You can further improve the classification results by adding more steps for classification. Add a pre-processing step to normalize and standardize each image. You can also add a model selection step that trains different models with a different number of hidden layer units and a different number of epochs, and selects the best model. A good understanding of a basic neural network will help you get started with developing more complex deep learning architectures. \n",
    "\n",
    "Continue reading:\n",
    "Part II of the series on building autoencoders for supervised classification. (LINKS)\n",
    "Part III of the series on building transformers for supervised classification. (LINKS)\n"
   ]
  }
 ],
 "metadata": {
  "colab": {
   "name": "simpleNN.ipynb",
   "provenance": []
  },
  "kernelspec": {
   "display_name": "Python 3",
   "language": "python",
   "name": "python3"
  },
  "language_info": {
   "codemirror_mode": {
    "name": "ipython",
    "version": 3
   },
   "file_extension": ".py",
   "mimetype": "text/x-python",
   "name": "python",
   "nbconvert_exporter": "python",
   "pygments_lexer": "ipython3",
   "version": "3.8.3"
  }
 },
 "nbformat": 4,
 "nbformat_minor": 1
}
